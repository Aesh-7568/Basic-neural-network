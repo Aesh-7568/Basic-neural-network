{
  "nbformat": 4,
  "nbformat_minor": 0,
  "metadata": {
    "colab": {
      "name": "Assignment1.ipynb",
      "provenance": []
    },
    "kernelspec": {
      "name": "python3",
      "display_name": "Python 3"
    },
    "language_info": {
      "name": "python"
    }
  },
  "cells": [
    {
      "cell_type": "code",
      "metadata": {
        "colab": {
          "base_uri": "https://localhost:8080/"
        },
        "id": "qPUA-tqbzyUG",
        "outputId": "e6c5321c-9080-42dd-d11f-75e3dabd6747"
      },
      "source": [
        "import torch\n",
        "from torch.autograd import Variable\n",
        "import torch.nn as nn\n",
        "import torch.nn.functional as F\n",
        "import torch.optim as optim\n",
        "import numpy as np\n",
        "import matplotlib.pyplot as plt\n",
        "%matplotlib inline\n",
        "torch.manual_seed(2)"
      ],
      "execution_count": null,
      "outputs": [
        {
          "output_type": "execute_result",
          "data": {
            "text/plain": [
              "<torch._C.Generator at 0x7fc2f6206a90>"
            ]
          },
          "metadata": {},
          "execution_count": 1
        }
      ]
    },
    {
      "cell_type": "code",
      "metadata": {
        "id": "lgb8xaff0Jxw"
      },
      "source": [
        "X = torch.Tensor([[0,0], [0,1], [1,0], [1,1]])\n",
        "Y = torch.Tensor([0, 1, 1, 0]).view(-1,1)"
      ],
      "execution_count": null,
      "outputs": []
    },
    {
      "cell_type": "code",
      "metadata": {
        "id": "DoBLGaOS0PRL"
      },
      "source": [
        "class XOR(nn.Module):\n",
        "    def __init__(self, input_dim = 2, output_dim=1):\n",
        "        super(XOR, self).__init__()\n",
        "        self.lin1 = nn.Linear(input_dim, 3)\n",
        "        self.lin2 = nn.Linear(3, 4)\n",
        "        self.lin3 = nn.Linear(4, 2)\n",
        "        self.lin4 = nn.Linear(2, 3)\n",
        "        self.lin5 = nn.Linear(3, output_dim)\n",
        "    \n",
        "    def forward(self, x):\n",
        "        x = self.lin1(x)\n",
        "        x = F.tanh(x)\n",
        "        x = self.lin2(x)\n",
        "        x = F.tanh(x)\n",
        "        x = self.lin3(x)\n",
        "        x = F.tanh(x)\n",
        "        x = self.lin4(x)\n",
        "        x = F.tanh(x)\n",
        "        x = self.lin5(x)\n",
        "        return x"
      ],
      "execution_count": null,
      "outputs": []
    },
    {
      "cell_type": "code",
      "metadata": {
        "colab": {
          "base_uri": "https://localhost:8080/"
        },
        "id": "Gam42XyuOnU2",
        "outputId": "0a874ee0-11fa-47f7-8892-bb30a846c00a"
      },
      "source": [
        "model = XOR()\n",
        "print(model)\n",
        "from torchsummary import summary\n",
        "summary(model,(2,2))"
      ],
      "execution_count": null,
      "outputs": [
        {
          "output_type": "stream",
          "name": "stdout",
          "text": [
            "XOR(\n",
            "  (lin1): Linear(in_features=2, out_features=3, bias=True)\n",
            "  (lin2): Linear(in_features=3, out_features=4, bias=True)\n",
            "  (lin3): Linear(in_features=4, out_features=2, bias=True)\n",
            "  (lin4): Linear(in_features=2, out_features=3, bias=True)\n",
            "  (lin5): Linear(in_features=3, out_features=1, bias=True)\n",
            ")\n",
            "----------------------------------------------------------------\n",
            "        Layer (type)               Output Shape         Param #\n",
            "================================================================\n",
            "            Linear-1                 [-1, 2, 3]               9\n",
            "            Linear-2                 [-1, 2, 4]              16\n",
            "            Linear-3                 [-1, 2, 2]              10\n",
            "            Linear-4                 [-1, 2, 3]               9\n",
            "================================================================\n",
            "Total params: 44\n",
            "Trainable params: 44\n",
            "Non-trainable params: 0\n",
            "----------------------------------------------------------------\n",
            "Input size (MB): 0.00\n",
            "Forward/backward pass size (MB): 0.00\n",
            "Params size (MB): 0.00\n",
            "Estimated Total Size (MB): 0.00\n",
            "----------------------------------------------------------------\n"
          ]
        },
        {
          "output_type": "stream",
          "name": "stderr",
          "text": [
            "/usr/local/lib/python3.7/dist-packages/torch/nn/functional.py:1794: UserWarning: nn.functional.tanh is deprecated. Use torch.tanh instead.\n",
            "  warnings.warn(\"nn.functional.tanh is deprecated. Use torch.tanh instead.\")\n"
          ]
        }
      ]
    },
    {
      "cell_type": "code",
      "metadata": {
        "id": "fdqtpDBVOsFl"
      },
      "source": [
        "def weights_init(model):\n",
        "    for m in model.modules():\n",
        "        if isinstance(m, nn.Linear):\n",
        "            # initialize the weight tensor, here we use a normal distribution\n",
        "            m.weight.data.normal_(0, 1)\n",
        "\n",
        "weights_init(model)"
      ],
      "execution_count": null,
      "outputs": []
    },
    {
      "cell_type": "code",
      "metadata": {
        "id": "ABdoKS_eOxky"
      },
      "source": [
        "loss_func = nn.L1Loss()"
      ],
      "execution_count": null,
      "outputs": []
    },
    {
      "cell_type": "code",
      "metadata": {
        "id": "ZnnjdSWkO02G"
      },
      "source": [
        "optimizer = optim.SGD(model.parameters(), lr=0.02, momentum=0.9)"
      ],
      "execution_count": null,
      "outputs": []
    },
    {
      "cell_type": "code",
      "metadata": {
        "colab": {
          "base_uri": "https://localhost:8080/"
        },
        "id": "XFnRp7-oO3vU",
        "outputId": "540d9b96-9b55-4876-b3da-c6c99cd63c23"
      },
      "source": [
        "epochs = 2001\n",
        "steps = X.size(0)\n",
        "for i in range(epochs):\n",
        "    for j in range(steps):\n",
        "        data_point = np.random.randint(X.size(0))\n",
        "        x_var = Variable(X[data_point], requires_grad=False)\n",
        "        y_var = Variable(Y[data_point], requires_grad=False)\n",
        "        \n",
        "        optimizer.zero_grad()\n",
        "        y_hat = model(x_var)\n",
        "        loss = loss_func.forward(y_hat, y_var)\n",
        "        loss.backward()\n",
        "        optimizer.step()\n",
        "        \n",
        "    if i % 50 == 0:\n",
        "        print( \"Epoch: {0}, Loss: {1}, \".format(i, loss.data.numpy()))"
      ],
      "execution_count": null,
      "outputs": [
        {
          "output_type": "stream",
          "name": "stderr",
          "text": [
            "/usr/local/lib/python3.7/dist-packages/torch/nn/functional.py:1794: UserWarning: nn.functional.tanh is deprecated. Use torch.tanh instead.\n",
            "  warnings.warn(\"nn.functional.tanh is deprecated. Use torch.tanh instead.\")\n",
            "/usr/local/lib/python3.7/dist-packages/torch/nn/modules/loss.py:97: UserWarning: Using a target size (torch.Size([1])) that is different to the input size (torch.Size([3])). This will likely lead to incorrect results due to broadcasting. Please ensure they have the same size.\n",
            "  return F.l1_loss(input, target, reduction=self.reduction)\n"
          ]
        },
        {
          "output_type": "stream",
          "name": "stdout",
          "text": [
            "Epoch: 0, Loss: 0.4113956689834595, \n",
            "Epoch: 50, Loss: 0.03326684236526489, \n",
            "Epoch: 100, Loss: 0.016774991527199745, \n",
            "Epoch: 150, Loss: 0.012690126895904541, \n",
            "Epoch: 200, Loss: 0.07118358463048935, \n",
            "Epoch: 250, Loss: 0.10822141170501709, \n",
            "Epoch: 300, Loss: 0.11544204503297806, \n",
            "Epoch: 350, Loss: 0.0526135116815567, \n",
            "Epoch: 400, Loss: 0.005664070602506399, \n",
            "Epoch: 450, Loss: 0.0034801363945007324, \n",
            "Epoch: 500, Loss: 0.03288986161351204, \n",
            "Epoch: 550, Loss: 0.20030735433101654, \n",
            "Epoch: 600, Loss: 0.0031491119880229235, \n",
            "Epoch: 650, Loss: 0.0023215610999614, \n",
            "Epoch: 700, Loss: 0.00201261043548584, \n",
            "Epoch: 750, Loss: 0.002142886398360133, \n",
            "Epoch: 800, Loss: 0.001868943334557116, \n",
            "Epoch: 850, Loss: 0.06507933884859085, \n",
            "Epoch: 900, Loss: 0.08493798971176147, \n",
            "Epoch: 950, Loss: 0.0938657820224762, \n",
            "Epoch: 1000, Loss: 0.0013806422939524055, \n",
            "Epoch: 1050, Loss: 0.18822576105594635, \n",
            "Epoch: 1100, Loss: 0.0492904931306839, \n",
            "Epoch: 1150, Loss: 0.0010189613094553351, \n",
            "Epoch: 1200, Loss: 0.04490368440747261, \n",
            "Epoch: 1250, Loss: 0.0009751319885253906, \n",
            "Epoch: 1300, Loss: 0.1706729531288147, \n",
            "Epoch: 1350, Loss: 0.07883184403181076, \n",
            "Epoch: 1400, Loss: 0.10885435342788696, \n",
            "Epoch: 1450, Loss: 0.2214164137840271, \n",
            "Epoch: 1500, Loss: 0.0007240772247314453, \n",
            "Epoch: 1550, Loss: 0.0008132457733154297, \n",
            "Epoch: 1600, Loss: 0.0006645917892456055, \n",
            "Epoch: 1650, Loss: 0.05978159233927727, \n",
            "Epoch: 1700, Loss: 0.07068561762571335, \n",
            "Epoch: 1750, Loss: 0.0006334583158604801, \n",
            "Epoch: 1800, Loss: 0.0006648699636571109, \n",
            "Epoch: 1850, Loss: 0.01813017576932907, \n",
            "Epoch: 1900, Loss: 0.0006215572357177734, \n",
            "Epoch: 1950, Loss: 0.0968644842505455, \n",
            "Epoch: 2000, Loss: 0.10771890729665756, \n"
          ]
        }
      ]
    }
  ]
}